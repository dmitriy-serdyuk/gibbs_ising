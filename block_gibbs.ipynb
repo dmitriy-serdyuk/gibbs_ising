{
 "metadata": {
  "name": "",
  "signature": "sha256:9749d3c9078f66cd447fa3e7953afc05fec6ad8e5d86d54a3acfbebea376fb65"
 },
 "nbformat": 3,
 "nbformat_minor": 0,
 "worksheets": [
  {
   "cells": [
    {
     "cell_type": "code",
     "collapsed": false,
     "input": [
      "import numpy as np\n",
      "import matplotlib\n",
      "%matplotlib inline\n",
      "from matplotlib import pyplot as plt\n",
      "from itertools import izip, izip_longest\n",
      "from block_gibbs import tree_iter, neighbours\n",
      "from numpy import random"
     ],
     "language": "python",
     "metadata": {},
     "outputs": [
      {
       "ename": "ImportError",
       "evalue": "No module named compat",
       "output_type": "pyerr",
       "traceback": [
        "\u001b[0;31m---------------------------------------------------------------------------\u001b[0m\n\u001b[0;31mImportError\u001b[0m                               Traceback (most recent call last)",
        "\u001b[0;32m<ipython-input-3-6d96d1e44aff>\u001b[0m in \u001b[0;36m<module>\u001b[0;34m()\u001b[0m\n\u001b[1;32m      1\u001b[0m \u001b[0;32mimport\u001b[0m \u001b[0mnumpy\u001b[0m \u001b[0;32mas\u001b[0m \u001b[0mnp\u001b[0m\u001b[0;34m\u001b[0m\u001b[0m\n\u001b[0;32m----> 2\u001b[0;31m \u001b[0;32mimport\u001b[0m \u001b[0mmatplotlib\u001b[0m\u001b[0;34m\u001b[0m\u001b[0m\n\u001b[0m\u001b[1;32m      3\u001b[0m \u001b[0mget_ipython\u001b[0m\u001b[0;34m(\u001b[0m\u001b[0;34m)\u001b[0m\u001b[0;34m.\u001b[0m\u001b[0mmagic\u001b[0m\u001b[0;34m(\u001b[0m\u001b[0;34mu'matplotlib inline'\u001b[0m\u001b[0;34m)\u001b[0m\u001b[0;34m\u001b[0m\u001b[0m\n\u001b[1;32m      4\u001b[0m \u001b[0;32mfrom\u001b[0m \u001b[0mmatplotlib\u001b[0m \u001b[0;32mimport\u001b[0m \u001b[0mpyplot\u001b[0m \u001b[0;32mas\u001b[0m \u001b[0mplt\u001b[0m\u001b[0;34m\u001b[0m\u001b[0m\n\u001b[1;32m      5\u001b[0m \u001b[0;32mfrom\u001b[0m \u001b[0mitertools\u001b[0m \u001b[0;32mimport\u001b[0m \u001b[0mizip\u001b[0m\u001b[0;34m,\u001b[0m \u001b[0mizip_longest\u001b[0m\u001b[0;34m\u001b[0m\u001b[0m\n",
        "\u001b[0;32m/usr/lib/pymodules/python2.7/matplotlib/__init__.py\u001b[0m in \u001b[0;36m<module>\u001b[0;34m()\u001b[0m\n\u001b[1;32m    155\u001b[0m \u001b[0;31m# definitions, so it is safe to import from it here.\u001b[0m\u001b[0;34m\u001b[0m\u001b[0;34m\u001b[0m\u001b[0m\n\u001b[1;32m    156\u001b[0m \u001b[0;32mfrom\u001b[0m \u001b[0mmatplotlib\u001b[0m\u001b[0;34m.\u001b[0m\u001b[0mcbook\u001b[0m \u001b[0;32mimport\u001b[0m \u001b[0mis_string_like\u001b[0m\u001b[0;34m\u001b[0m\u001b[0m\n\u001b[0;32m--> 157\u001b[0;31m \u001b[0;32mfrom\u001b[0m \u001b[0mmatplotlib\u001b[0m\u001b[0;34m.\u001b[0m\u001b[0mcompat\u001b[0m \u001b[0;32mimport\u001b[0m \u001b[0msubprocess\u001b[0m\u001b[0;34m\u001b[0m\u001b[0m\n\u001b[0m\u001b[1;32m    158\u001b[0m \u001b[0;34m\u001b[0m\u001b[0m\n\u001b[1;32m    159\u001b[0m \u001b[0;32mtry\u001b[0m\u001b[0;34m:\u001b[0m\u001b[0;34m\u001b[0m\u001b[0m\n",
        "\u001b[0;31mImportError\u001b[0m: No module named compat"
       ]
      }
     ],
     "prompt_number": 3
    },
    {
     "cell_type": "code",
     "collapsed": false,
     "input": [
      "size = 30\n",
      "theta = 0.25\n",
      "num_iter = 1000\n",
      "vis_step = 100"
     ],
     "language": "python",
     "metadata": {},
     "outputs": [],
     "prompt_number": 2
    },
    {
     "cell_type": "markdown",
     "metadata": {},
     "source": [
      "$$\\psi_{0, 0} = \\exp(\\theta x_{0, 1} x_{0, 0} + \\theta x_{1, 0} x_{0, 0}) $$\n",
      "$$p(x_{0, 0}) \\propto \\exp(\\theta x_{1, 0} x_{0, 0} )$$\n",
      "$$\\psi_{1, 0} = \\exp(\\theta x_{0, 0} x_{1, 0} + \\theta x_{1, 1} x_{1, 0} + \\theta x_{2, 0} x_{1, 0}) $$\n",
      "$$p(x_{1, 0} | x_{0, 0}) \\propto \\exp(\\theta x_{0, 0} x_{1, 0})$$"
     ]
    },
    {
     "cell_type": "code",
     "collapsed": false,
     "input": [
      "rng = random.RandomState(1)\n",
      "vars = rng.binomial(1, 0.5, (size, size)) * 2. - 1.\n",
      "probs = np.zeros((size, size))\n",
      "\n",
      "def do_ancestral_sampling(vars, iterator, theta):\n",
      "    cur_iter = iterator()\n",
      "    next_iter = iterator()\n",
      "    next_iter.next()\n",
      "    for (i, j), nind in izip_longest(cur_iter, next_iter):\n",
      "        neigh = neighbours(i, j, size)\n",
      "        if nind is not None:\n",
      "            neigh = neigh.difference(nind)\n",
      "        energy = 0.0\n",
      "        for ii, jj in neigh:\n",
      "            energy += vars[ii, jj]\n",
      "        prob_pos = np.exp(theta * energy)\n",
      "        prob_neg = np.exp(-theta * energy)\n",
      "        prob_pos, prob_neg = (prob_pos / (prob_neg + prob_pos),\n",
      "                              prob_neg / (prob_neg + prob_pos))\n",
      "        probs[i, j] = prob_pos\n",
      "        vars[i, j] = rng.binomial(1, prob_pos) * 2. - 1.\n",
      "        \n",
      "        \n",
      "ret = []\n",
      "plt.figure(1, figsize=(15, 6))\n",
      "for i in xrange(num_iter):\n",
      "    do_ancestral_sampling(vars, tree_iter(0, size), theta)\n",
      "    do_ancestral_sampling(vars, tree_iter(1, size), theta)\n",
      "    \n",
      "    if i % vis_step == vis_step - 1:\n",
      "        plt.subplot(250 + (i / vis_step))\n",
      "#        ret += [vars.copy()]\n",
      "        #plt.figure(1)\n",
      "        plt.imshow(vars.copy(), interpolation='none')\n",
      "plt.savefig(\"sample_block.eps\")\n",
      "plt.show()\n",
      "#        plt.figure(1)\n",
      "#        plt.subplot(121)\n",
      "#        plt.imshow(probs, interpolation='none')\n",
      "#        plt.subplot(122)\n",
      "#        plt.imshow(vars, interpolation='none')\n",
      "#        plt.show()\n",
      "    \n",
      "#for image in ret:\n",
      "#    plt.imshow(image, interpolation='none')\n",
      "#    plt.show()"
     ],
     "language": "python",
     "metadata": {},
     "outputs": [
      {
       "metadata": {},
       "output_type": "display_data",
       "png": "[encoded data removed]",
       "text": [
        "<matplotlib.figure.Figure at 0x3cfbe10>"
       ]
      }
     ],
     "prompt_number": 14
    },
    {
     "cell_type": "code",
     "collapsed": false,
     "input": [
      "import block_gibbs\n",
      "gibbs = reload(block_gibbs)\n",
      "a = [i for i in gibbs.tree_iter(0, 4)()]\n",
      "print a\n",
      "b = [i for i in gibbs.tree_iter(1, 4)()]\n",
      "print b\n",
      "c = [i for i in gibbs.rev_tree_iter(0, 4)()]\n",
      "print c, c == [x for x in reversed(a)]\n",
      "d = [i for i in gibbs.rev_tree_iter(1, 4)()]\n",
      "print d, d == [x for x in reversed(b)]\n",
      "print gibbs.prec(2, 0, 4)\n"
     ],
     "language": "python",
     "metadata": {},
     "outputs": [
      {
       "output_type": "stream",
       "stream": "stdout",
       "text": [
        "[(0, 0), (1, 0), (1, 1), (1, 2), (2, 0), (3, 0), (3, 1), (3, 2)]\n",
        "[(3, 3), (2, 3), (2, 2), (2, 1), (1, 3), (0, 3), (0, 2), (0, 1)]\n",
        "[(3, 2), (3, 1), (3, 0), (2, 0), (1, 2), (1, 1), (1, 0), (0, 0)] True\n",
        "[(0, 1), (0, 2), (0, 3), (1, 3), (2, 1), (2, 2), (2, 3), (3, 3)] True\n",
        "[(3, 0)]\n"
       ]
      }
     ],
     "prompt_number": 24
    },
    {
     "cell_type": "code",
     "collapsed": false,
     "input": [
      "rng.binomial(1, 0.5, 100) * 2 - 1"
     ],
     "language": "python",
     "metadata": {},
     "outputs": [
      {
       "metadata": {},
       "output_type": "pyout",
       "prompt_number": 18,
       "text": [
        "array([ 1,  1,  1,  1, -1,  1, -1, -1,  1, -1, -1, -1,  1,  1, -1, -1, -1,\n",
        "        1, -1,  1,  1,  1,  1,  1,  1, -1, -1,  1, -1,  1, -1,  1,  1, -1,\n",
        "        1, -1,  1,  1,  1, -1, -1, -1,  1,  1, -1,  1, -1, -1,  1,  1,  1,\n",
        "       -1, -1, -1, -1,  1, -1,  1,  1,  1,  1, -1, -1,  1,  1, -1,  1,  1,\n",
        "        1, -1, -1, -1,  1,  1, -1,  1,  1,  1,  1,  1, -1, -1,  1, -1,  1,\n",
        "        1,  1,  1, -1, -1, -1, -1,  1,  1, -1, -1,  1, -1,  1,  1])"
       ]
      }
     ],
     "prompt_number": 18
    },
    {
     "cell_type": "code",
     "collapsed": false,
     "input": [
      "x = 3\n",
      "np.exp(0.45 * x) / (np.exp(0.45 * x) + np.exp(-0.45 * x))"
     ],
     "language": "python",
     "metadata": {},
     "outputs": [
      {
       "metadata": {},
       "output_type": "pyout",
       "prompt_number": 37,
       "text": [
        "0.9370266439430035"
       ]
      }
     ],
     "prompt_number": 37
    },
    {
     "cell_type": "code",
     "collapsed": false,
     "input": [],
     "language": "python",
     "metadata": {},
     "outputs": []
    }
   ],
   "metadata": {}
  }
 ]
}