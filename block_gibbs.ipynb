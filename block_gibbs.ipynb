{
 "metadata": {
  "name": "",
  "signature": "sha256:c656a086ecc087fa371c653907dce30974478704201c2dd97c427d18aa5bca04"
 },
 "nbformat": 3,
 "nbformat_minor": 0,
 "worksheets": [
  {
   "cells": [
    {
     "cell_type": "code",
     "collapsed": false,
     "input": [
      "import numpy as np\n",
      "import matplotlib\n",
      "%matplotlib inline\n",
      "from matplotlib import pyplot as plt\n",
      "from itertools import izip, izip_longest\n",
      "from block_gibbs import tree_iter, neighbours\n",
      "from numpy import random"
     ],
     "language": "python",
     "metadata": {},
     "outputs": [],
     "prompt_number": 1
    },
    {
     "cell_type": "code",
     "collapsed": false,
     "input": [
      "size = 30\n",
      "theta = 0.45\n",
      "num_iter = 1000\n",
      "vis_step = 100"
     ],
     "language": "python",
     "metadata": {},
     "outputs": [],
     "prompt_number": 2
    },
    {
     "cell_type": "markdown",
     "metadata": {},
     "source": [
      "$$\\psi_{0, 0} = \\exp(\\theta x_{0, 1} x_{0, 0} + \\theta x_{1, 0} x_{0, 0}) $$\n",
      "$$p(x_{0, 0}) \\propto \\exp(\\theta x_{1, 0} x_{0, 0} )$$\n",
      "$$\\psi_{1, 0} = \\exp(\\theta x_{0, 0} x_{1, 0} + \\theta x_{1, 1} x_{1, 0} + \\theta x_{2, 0} x_{1, 0}) $$\n",
      "$$p(x_{1, 0} | x_{0, 0}) \\propto \\exp(\\theta x_{0, 0} x_{1, 0})$$"
     ]
    },
    {
     "cell_type": "code",
     "collapsed": false,
     "input": [
      "rng = random.RandomState(1)\n",
      "vars = rng.binomial(1, 0.5, (size, size)) * 2. - 1.\n",
      "probs = np.zeros((size, size))\n",
      "\n",
      "def do_ancestral_sampling(vars, iterator, theta):\n",
      "    cur_iter = iterator()\n",
      "    next_iter = iterator()\n",
      "    next_iter.next()\n",
      "    for (i, j), nind in izip_longest(cur_iter, next_iter):\n",
      "        neigh = neighbours(i, j, size)\n",
      "        if nind is not None:\n",
      "            neigh = neigh.difference(nind)\n",
      "        energy = 0.0\n",
      "        for ii, jj in neigh:\n",
      "            energy += vars[ii, jj]\n",
      "        prob_pos = np.exp(theta * energy)\n",
      "        prob_neg = np.exp(-theta * energy)\n",
      "        prob_pos, prob_neg = (prob_pos / (prob_neg + prob_pos),\n",
      "                              prob_neg / (prob_neg + prob_pos))\n",
      "        probs[i, j] = prob_pos\n",
      "        vars[i, j] = rng.binomial(1, prob_pos) * 2. - 1.\n",
      "        \n",
      "        \n",
      "ret = []\n",
      "plt.figure(1, figsize=(15, 6))\n",
      "for i in xrange(num_iter):\n",
      "    do_ancestral_sampling(vars, tree_iter(0, size), theta)\n",
      "    do_ancestral_sampling(vars, tree_iter(1, size), theta)\n",
      "    \n",
      "    if i % vis_step == vis_step - 1:\n",
      "        plt.subplot(250 + (i / vis_step))\n",
      "#        ret += [vars.copy()]\n",
      "        #plt.figure(1)\n",
      "        plt.imshow(vars.copy(), interpolation='none')\n",
      "plt.savefig(\"sample_block.eps\")\n",
      "plt.show()\n",
      "#        plt.figure(1)\n",
      "#        plt.subplot(121)\n",
      "#        plt.imshow(probs, interpolation='none')\n",
      "#        plt.subplot(122)\n",
      "#        plt.imshow(vars, interpolation='none')\n",
      "#        plt.show()\n",
      "    \n",
      "#for image in ret:\n",
      "#    plt.imshow(image, interpolation='none')\n",
      "#    plt.show()"
     ],
     "language": "python",
     "metadata": {},
     "outputs": [
      {
       "metadata": {},
       "output_type": "display_data",
       "png": "[encoded data removed]",
       "text": [
        "<matplotlib.figure.Figure at 0x2818090>"
       ]
      }
     ],
     "prompt_number": 12
    },
    {
     "cell_type": "code",
     "collapsed": false,
     "input": [
      "import block_gibbs\n",
      "gibbs = reload(block_gibbs)\n",
      "print [i for i in gibbs.tree_iter(0, 4)()]\n",
      "print [i for i in gibbs.tree_iter(1, 4)()]\n"
     ],
     "language": "python",
     "metadata": {},
     "outputs": [
      {
       "output_type": "stream",
       "stream": "stdout",
       "text": [
        "[(0, 0), (1, 0), (1, 1), (1, 2), (2, 0), (3, 0), (3, 1), (3, 2)]\n",
        "[(0, 3), (0, 2), (0, 1), (1, 3), (2, 3), (2, 2), (2, 1), (3, 3)]\n"
       ]
      }
     ],
     "prompt_number": 14
    },
    {
     "cell_type": "code",
     "collapsed": false,
     "input": [
      "rng.binomial(1, 0.5, 100) * 2 - 1"
     ],
     "language": "python",
     "metadata": {},
     "outputs": [
      {
       "metadata": {},
       "output_type": "pyout",
       "prompt_number": 18,
       "text": [
        "array([ 1,  1,  1,  1, -1,  1, -1, -1,  1, -1, -1, -1,  1,  1, -1, -1, -1,\n",
        "        1, -1,  1,  1,  1,  1,  1,  1, -1, -1,  1, -1,  1, -1,  1,  1, -1,\n",
        "        1, -1,  1,  1,  1, -1, -1, -1,  1,  1, -1,  1, -1, -1,  1,  1,  1,\n",
        "       -1, -1, -1, -1,  1, -1,  1,  1,  1,  1, -1, -1,  1,  1, -1,  1,  1,\n",
        "        1, -1, -1, -1,  1,  1, -1,  1,  1,  1,  1,  1, -1, -1,  1, -1,  1,\n",
        "        1,  1,  1, -1, -1, -1, -1,  1,  1, -1, -1,  1, -1,  1,  1])"
       ]
      }
     ],
     "prompt_number": 18
    },
    {
     "cell_type": "code",
     "collapsed": false,
     "input": [
      "x = 3\n",
      "np.exp(0.45 * x) / (np.exp(0.45 * x) + np.exp(-0.45 * x))"
     ],
     "language": "python",
     "metadata": {},
     "outputs": [
      {
       "metadata": {},
       "output_type": "pyout",
       "prompt_number": 37,
       "text": [
        "0.9370266439430035"
       ]
      }
     ],
     "prompt_number": 37
    },
    {
     "cell_type": "code",
     "collapsed": false,
     "input": [],
     "language": "python",
     "metadata": {},
     "outputs": []
    }
   ],
   "metadata": {}
  }
 ]
}